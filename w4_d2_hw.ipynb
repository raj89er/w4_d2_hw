{
 "cells": [
  {
   "cell_type": "markdown",
   "id": "f3293a04-9a5e-4060-8ef7-5544d6c25e62",
   "metadata": {},
   "source": [
    "# Exercises"
   ]
  },
  {
   "cell_type": "markdown",
   "id": "af7a4042-8304-41f5-840d-d798aadf2a64",
   "metadata": {},
   "source": [
    "### Exercise #1 <br>\n",
    "<p>Filter out all of the empty strings from the list below</p>\n",
    "\n",
    "`Output: ['Argentina', 'San Diego', 'Boston', 'New York', 'DC']`"
   ]
  },
  {
   "cell_type": "code",
   "execution_count": 6,
   "id": "d7b17e82-80ca-49ef-bf1f-f42b4ab8ea9a",
   "metadata": {},
   "outputs": [],
   "source": [
    "places = [\" \",\"Argentina\", \" \", \"San Diego\", \"\", \"  \", \"\", \"Boston\", \"New York\", \"DC\", \"          \"]\n",
    "\n",
    "# Remove all of the empty string\n"
   ]
  },
  {
   "cell_type": "code",
   "execution_count": 11,
   "id": "083d8a0d-3393-47af-ba9a-e744b0ea1a14",
   "metadata": {},
   "outputs": [
    {
     "data": {
      "text/plain": [
       "['Argentina', 'San Diego', 'Boston', 'New York', 'DC']"
      ]
     },
     "execution_count": 11,
     "metadata": {},
     "output_type": "execute_result"
    }
   ],
   "source": [
    "list(filter(lambda place: place.strip(), places))\n"
   ]
  },
  {
   "cell_type": "markdown",
   "id": "3e220148-c48e-4161-8fd6-00f381f890b5",
   "metadata": {},
   "source": [
    "### Exercise #2 <br>\n",
    "<p>Write an anonymous function that sorts this list by the last name *case insensitive*...<br><b>Hint: Use the \".sort()\" method or the \"sorted()\" function and access the key keyword argument\"</b></p>\n",
    "\n",
    "`Output: ['Victor aNisimov', 'Gary A.J. Bernstein', 'Joel Carter', 'Andrew P. Garfield', 'David hassELHOFF']`"
   ]
  },
  {
   "cell_type": "code",
   "execution_count": 63,
   "id": "34a4652a-d660-44a8-897d-9c5dfbc6d370",
   "metadata": {},
   "outputs": [
    {
     "name": "stdout",
     "output_type": "stream",
     "text": [
      "['Victor aNisimov', 'Gary A.J. Bernstein', 'Joel Carter', 'Andrew P. Garfield', 'David hassELHOFF']\n"
     ]
    }
   ],
   "source": [
    "authors = [\"Joel Carter\", \"Victor aNisimov\", \"Andrew P. Garfield\", \"David hassELHOFF\", \"Gary A.J. Bernstein\"]\n",
    "\n",
    "authors.sort(key=lambda x: x.split()[-1].lower())\n",
    "\n",
    "print(authors)\n"
   ]
  },
  {
   "cell_type": "markdown",
   "id": "f064c9c8-ecb2-43df-9323-e2cb0bdd303e",
   "metadata": {},
   "source": [
    "### Exercise #3 <br>\n",
    "<p>Convert the list below from Celsius to Farhenheit, using the map function with a lambda...</p>\n",
    "\n",
    "`Output: [('Nashua', 89.6), ('Boston', 53.6), ('Los Angeles', 111.2), ('Miami', 84.2)]\n",
    "`"
   ]
  },
  {
   "cell_type": "code",
   "execution_count": 61,
   "id": "f198af9a-b59e-4f27-b341-020a0f76c223",
   "metadata": {},
   "outputs": [
    {
     "name": "stdout",
     "output_type": "stream",
     "text": [
      "[('Nashua', 89.6), ('Boston', 53.6), ('Los Angeles', 111.2), ('Miami', 84.2)]\n"
     ]
    }
   ],
   "source": [
    "# F = (9/5)*C + 32\n",
    "places = [('Nashua',32),(\"Boston\",12),(\"Los Angeles\",44),(\"Miami\",29)]\n",
    "\n",
    "solution = list(map(lambda x: (x[0], (x[1] * 9/5) + 32), places))\n",
    "\n",
    "print(solution)\n"
   ]
  },
  {
   "cell_type": "markdown",
   "id": "d12d3f47-70e6-445e-a32f-2ca91b846d62",
   "metadata": {},
   "source": [
    "### Exercise #4 <br>\n",
    "<p>Write a recursion function to perform the fibonacci sequence up to the number passed in.</p> <p>More information on the Fibonacci Sequence <a href=\"https://en.wikipedia.org/wiki/Fibonacci_sequence\" target=\"_blank\">here</a>. Start the sequence with `0,1,1,...`.</p>\n",
    "\n"
   ]
  },
  {
   "cell_type": "code",
   "execution_count": 8,
   "id": "94f86afd-42fb-4687-af02-2d2b3576ecbd",
   "metadata": {},
   "outputs": [
    {
     "name": "stdout",
     "output_type": "stream",
     "text": [
      "[0, 1, 1, 2, 3, 5, 8, 13, 21, 34]\n"
     ]
    }
   ],
   "source": [
    "def fibonacci(n):\n",
    "    fib_seq = [0]\n",
    "    a, b = 0, 1\n",
    "    while len(fib_seq) < n:\n",
    "        fib_seq.append(b)\n",
    "        a, b = b, a + b\n",
    "    return fib_seq\n",
    "\n",
    "num1= int(input(\"Enter a number to see the magic of fibonacci... \"))\n",
    "\n",
    "solution = fibonacci(num1)\n",
    "\n",
    "print(solution)\n"
   ]
  },
  {
   "cell_type": "markdown",
   "id": "1f31d5bb-e2d0-4457-a189-6b768d2aa6ca",
   "metadata": {},
   "source": [
    "### Exercise #5<br>\n",
    "<p>Create a generator that takes a number argument and yields that number squared down to 0, then call the generator and iterate through and print the result.</p>"
   ]
  },
  {
   "cell_type": "code",
   "execution_count": 10,
   "id": "d504c378-18c3-42e1-b83f-70ac1e3e1d3f",
   "metadata": {},
   "outputs": [
    {
     "name": "stdout",
     "output_type": "stream",
     "text": [
      "100\n",
      "81\n",
      "64\n",
      "49\n",
      "36\n",
      "25\n",
      "16\n",
      "9\n",
      "4\n",
      "1\n",
      "0\n"
     ]
    }
   ],
   "source": [
    "def squares(n):\n",
    "    if n >= 0:\n",
    "        yield n ** 2\n",
    "        yield from squares(n - 1)\n",
    "\n",
    "num2 = int(input(\"Enter a number to see the magic of squares... \"))\n",
    "\n",
    "for i in squares(num2):\n",
    "    print(i)\n",
    "\n",
    "# 100\n",
    "# 81\n",
    "# 64\n",
    "# 49\n",
    "# 36\n",
    "# 25\n",
    "# 16\n",
    "# 9\n",
    "# 4\n",
    "# 2\n",
    "# 1\n",
    "# 0"
   ]
  }
 ],
 "metadata": {
  "kernelspec": {
   "display_name": "Python 3 (ipykernel)",
   "language": "python",
   "name": "python3"
  },
  "language_info": {
   "codemirror_mode": {
    "name": "ipython",
    "version": 3
   },
   "file_extension": ".py",
   "mimetype": "text/x-python",
   "name": "python",
   "nbconvert_exporter": "python",
   "pygments_lexer": "ipython3",
   "version": "3.12.2"
  }
 },
 "nbformat": 4,
 "nbformat_minor": 5
}
